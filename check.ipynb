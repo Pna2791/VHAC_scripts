{
 "cells": [
  {
   "cell_type": "code",
   "execution_count": null,
   "metadata": {},
   "outputs": [],
   "source": [
    "import time, torch\n",
    "from transformers import AutoTokenizer, AutoModelForCausalLM\n",
    "from peft import PeftModel\n",
    "import sys\n",
    "\n",
    "def sys_print(ss):\n",
    "    sys.stdout.write(ss)\n",
    "    sys.stdout.flush()\n",
    "\n",
    "from my_BM25 import BM25_searcher\n",
    "elasticsearch_url=\"http://localhost:9205\"\n",
    "index_name=\"vhac_embed\"\n",
    "retriever = BM25_searcher(host=elasticsearch_url, index_name=index_name)\n",
    "\n",
    "\n",
    "import pandas as pd\n",
    "file_path = open('../data/test_path.txt').read()\n",
    "df = pd.read_csv(file_path)\n",
    "\n",
    "question_embedding_dict = torch.load('../data/embeddings.pt')\n",
    "question_request_dict = torch.load('../data/quest_explained.pt')\n",
    "answer_dict = dict()\n",
    "\n",
    "for index, question in enumerate(df.question):\n",
    "    embedding = question_embedding_dict[question]\n",
    "    request = question_request_dict[question]\n",
    "    docs = retriever.search_embed(query=question, embedding=embedding, top_k=16)\n",
    "    # print(question)\n",
    "    sys_print('.')\n",
    "\n",
    "    for i in range(14):\n",
    "        context = docs[i] + docs[i+1] + docs[i+2]\n",
    "        prompt = f\"Dựa vào thông tin >>> {context}\\n\\nHãy trả lời câu hỏi sau >>> {question}\\nPhải đảm bảo các yêu cầu sau >>> {request}\\nCâu trả lời của bạn là: \"\n"
   ]
  }
 ],
 "metadata": {
  "language_info": {
   "name": "python"
  }
 },
 "nbformat": 4,
 "nbformat_minor": 2
}
