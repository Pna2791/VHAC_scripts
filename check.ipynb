{
 "cells": [
  {
   "cell_type": "code",
   "execution_count": 1,
   "metadata": {},
   "outputs": [
    {
     "name": "stderr",
     "output_type": "stream",
     "text": [
      "/media/thanhha/Utilities/Guests/anhpn46/miniconda3/envs/host/lib/python3.9/site-packages/tqdm/auto.py:21: TqdmWarning: IProgress not found. Please update jupyter and ipywidgets. See https://ipywidgets.readthedocs.io/en/stable/user_install.html\n",
      "  from .autonotebook import tqdm as notebook_tqdm\n"
     ]
    },
    {
     "name": "stdout",
     "output_type": "stream",
     "text": [
      "{'name': '9c711f468352', 'cluster_name': 'docker-cluster', 'cluster_uuid': '11_vAuQlRlu9hMzepIUy4A', 'version': {'number': '8.5.0', 'build_flavor': 'default', 'build_type': 'docker', 'build_hash': 'c94b4700cda13820dad5aa74fae6db185ca5c304', 'build_date': '2022-10-24T16:54:16.433628434Z', 'build_snapshot': False, 'lucene_version': '9.4.1', 'minimum_wire_compatibility_version': '7.17.0', 'minimum_index_compatibility_version': '7.0.0'}, 'tagline': 'You Know, for Search'}\n",
      "........................................................................................................................................................................................................"
     ]
    }
   ],
   "source": [
    "import time, torch\n",
    "from transformers import AutoTokenizer, AutoModelForCausalLM\n",
    "from peft import PeftModel\n",
    "import sys\n",
    "\n",
    "def sys_print(ss):\n",
    "    sys.stdout.write(ss)\n",
    "    sys.stdout.flush()\n",
    "\n",
    "from my_BM25 import BM25_searcher\n",
    "elasticsearch_url=\"http://localhost:9205\"\n",
    "index_name=\"vhac_embed\"\n",
    "retriever = BM25_searcher(host=elasticsearch_url, index_name=index_name)\n",
    "\n",
    "\n",
    "import pandas as pd\n",
    "file_path = open('../data/test_path.txt').read()\n",
    "df = pd.read_csv(file_path)\n",
    "\n",
    "question_embedding_dict = torch.load('../data/embeddings.pt')\n",
    "question_request_dict = torch.load('../data/quest_explained.pt')\n",
    "answer_dict = dict()\n",
    "\n",
    "for index, question in enumerate(df.question):\n",
    "    embedding = question_embedding_dict[question]\n",
    "    request = question_request_dict[question]\n",
    "    docs = retriever.search_embed(query=question, embedding=embedding, top_k=16)\n",
    "    # print(question)\n",
    "    sys_print('.')\n",
    "\n",
    "    for i in range(14):\n",
    "        context = docs[i] + docs[i+1] + docs[i+2]\n",
    "        prompt = f\"Dựa vào thông tin >>> {context}\\n\\nHãy trả lời câu hỏi sau >>> {question}\\nPhải đảm bảo các yêu cầu sau >>> {request}\\nCâu trả lời của bạn là: \"\n",
    "        break\n"
   ]
  }
 ],
 "metadata": {
  "kernelspec": {
   "display_name": "host",
   "language": "python",
   "name": "python3"
  },
  "language_info": {
   "codemirror_mode": {
    "name": "ipython",
    "version": 3
   },
   "file_extension": ".py",
   "mimetype": "text/x-python",
   "name": "python",
   "nbconvert_exporter": "python",
   "pygments_lexer": "ipython3",
   "version": "3.9.18"
  }
 },
 "nbformat": 4,
 "nbformat_minor": 2
}
